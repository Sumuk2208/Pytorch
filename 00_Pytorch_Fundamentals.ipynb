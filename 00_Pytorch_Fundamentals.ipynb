{
  "nbformat": 4,
  "nbformat_minor": 0,
  "metadata": {
    "colab": {
      "provenance": [],
      "gpuType": "T4",
      "include_colab_link": true
    },
    "kernelspec": {
      "name": "python3",
      "display_name": "Python 3"
    },
    "language_info": {
      "name": "python"
    },
    "accelerator": "GPU"
  },
  "cells": [
    {
      "cell_type": "markdown",
      "metadata": {
        "id": "view-in-github",
        "colab_type": "text"
      },
      "source": [
        "<a href=\"https://colab.research.google.com/github/Sumuk2208/Pytorch/blob/main/00_Pytorch_Fundamentals.ipynb\" target=\"_parent\"><img src=\"https://colab.research.google.com/assets/colab-badge.svg\" alt=\"Open In Colab\"/></a>"
      ]
    },
    {
      "cell_type": "markdown",
      "source": [
        "#00. Pytorch fundamentals"
      ],
      "metadata": {
        "id": "hhG23T-gUfHK"
      }
    },
    {
      "cell_type": "code",
      "source": [
        "import torch\n",
        "import pandas as pd\n",
        "import numpy as np\n",
        "import matplotlib.pyplot as plt\n",
        "print(torch.__version__)"
      ],
      "metadata": {
        "colab": {
          "base_uri": "https://localhost:8080/"
        },
        "id": "U85fajEQUln_",
        "outputId": "60439f0b-fae0-4a5d-bae4-2fa914aca95b"
      },
      "execution_count": 1,
      "outputs": [
        {
          "output_type": "stream",
          "name": "stdout",
          "text": [
            "2.5.1+cu124\n"
          ]
        }
      ]
    },
    {
      "cell_type": "markdown",
      "source": [
        "##Tensors"
      ],
      "metadata": {
        "id": "PKYXj2v3VU89"
      }
    },
    {
      "cell_type": "markdown",
      "source": [
        "scalars"
      ],
      "metadata": {
        "id": "aPQJSfS6Vcpa"
      }
    },
    {
      "cell_type": "code",
      "source": [
        "scalar=torch.tensor(3)\n",
        "scalar.item()"
      ],
      "metadata": {
        "colab": {
          "base_uri": "https://localhost:8080/"
        },
        "id": "w1sNihyHVYbZ",
        "outputId": "a531922f-5e28-4d3b-aaf7-80445086590d"
      },
      "execution_count": 2,
      "outputs": [
        {
          "output_type": "execute_result",
          "data": {
            "text/plain": [
              "3"
            ]
          },
          "metadata": {},
          "execution_count": 2
        }
      ]
    },
    {
      "cell_type": "code",
      "source": [
        "#vectors\n",
        "vec=torch.tensor([1,2])\n",
        "vec"
      ],
      "metadata": {
        "colab": {
          "base_uri": "https://localhost:8080/"
        },
        "id": "5adCcvZ9WB0I",
        "outputId": "655d444d-2e61-4711-d7c7-df91f34c1816"
      },
      "execution_count": 3,
      "outputs": [
        {
          "output_type": "execute_result",
          "data": {
            "text/plain": [
              "tensor([1, 2])"
            ]
          },
          "metadata": {},
          "execution_count": 3
        }
      ]
    },
    {
      "cell_type": "code",
      "source": [
        "#MATRIX\n",
        "mat=torch.tensor([[1,2],[3,4]])\n",
        "mat[:1]"
      ],
      "metadata": {
        "colab": {
          "base_uri": "https://localhost:8080/"
        },
        "id": "NkHgftkIWUOn",
        "outputId": "78b94e00-97e3-4bd5-fe4e-09a490523fd3"
      },
      "execution_count": 4,
      "outputs": [
        {
          "output_type": "execute_result",
          "data": {
            "text/plain": [
              "tensor([[1, 2]])"
            ]
          },
          "metadata": {},
          "execution_count": 4
        }
      ]
    },
    {
      "cell_type": "code",
      "source": [
        "#Tensor\n",
        "tensor=torch.tensor([[[1,2,3],[4,5,6],[7,8,9]]])\n",
        "tensor[:,:,:2]"
      ],
      "metadata": {
        "colab": {
          "base_uri": "https://localhost:8080/"
        },
        "id": "63ODBXXTW5ox",
        "outputId": "24c15355-4664-452f-98e6-be8b0543771c"
      },
      "execution_count": 5,
      "outputs": [
        {
          "output_type": "execute_result",
          "data": {
            "text/plain": [
              "tensor([[[1, 2],\n",
              "         [4, 5],\n",
              "         [7, 8]]])"
            ]
          },
          "metadata": {},
          "execution_count": 5
        }
      ]
    },
    {
      "cell_type": "markdown",
      "source": [
        "Random tensor"
      ],
      "metadata": {
        "id": "bMhKVCptHiOl"
      }
    },
    {
      "cell_type": "code",
      "source": [
        "random_tensor=torch.rand(3,3,2)\n",
        "random_tensor"
      ],
      "metadata": {
        "colab": {
          "base_uri": "https://localhost:8080/"
        },
        "id": "Jbhn_wxlHVLA",
        "outputId": "8b819345-e978-4bf2-caa7-903158d22080"
      },
      "execution_count": 6,
      "outputs": [
        {
          "output_type": "execute_result",
          "data": {
            "text/plain": [
              "tensor([[[0.6929, 0.9639],\n",
              "         [0.9838, 0.3832],\n",
              "         [0.0329, 0.7588]],\n",
              "\n",
              "        [[0.8161, 0.1635],\n",
              "         [0.6676, 0.4412],\n",
              "         [0.5892, 0.9327]],\n",
              "\n",
              "        [[0.6183, 0.1193],\n",
              "         [0.7639, 0.7452],\n",
              "         [0.9544, 0.2206]]])"
            ]
          },
          "metadata": {},
          "execution_count": 6
        }
      ]
    },
    {
      "cell_type": "code",
      "source": [
        "random_image_tensor=torch.rand(size=(224,224,3))\n",
        "random_image_tensor.shape,random_image_tensor.ndim"
      ],
      "metadata": {
        "colab": {
          "base_uri": "https://localhost:8080/"
        },
        "id": "4BCFBBmeIp0D",
        "outputId": "747af2c1-0635-437e-ef24-48b6097a00bb"
      },
      "execution_count": 7,
      "outputs": [
        {
          "output_type": "execute_result",
          "data": {
            "text/plain": [
              "(torch.Size([224, 224, 3]), 3)"
            ]
          },
          "metadata": {},
          "execution_count": 7
        }
      ]
    },
    {
      "cell_type": "markdown",
      "source": [
        "Zeroes/Ones"
      ],
      "metadata": {
        "id": "yI2NKb5_JeRe"
      }
    },
    {
      "cell_type": "code",
      "source": [
        "zeroes=torch.zeros_like(random_tensor, dtype=torch.int32)\n",
        "zeroes"
      ],
      "metadata": {
        "colab": {
          "base_uri": "https://localhost:8080/"
        },
        "id": "5VgXbBIsJUVM",
        "outputId": "644472e5-9bc6-4b25-adb1-250a78c58227"
      },
      "execution_count": 8,
      "outputs": [
        {
          "output_type": "execute_result",
          "data": {
            "text/plain": [
              "tensor([[[0, 0],\n",
              "         [0, 0],\n",
              "         [0, 0]],\n",
              "\n",
              "        [[0, 0],\n",
              "         [0, 0],\n",
              "         [0, 0]],\n",
              "\n",
              "        [[0, 0],\n",
              "         [0, 0],\n",
              "         [0, 0]]], dtype=torch.int32)"
            ]
          },
          "metadata": {},
          "execution_count": 8
        }
      ]
    },
    {
      "cell_type": "markdown",
      "source": [
        "###Range and tensors like"
      ],
      "metadata": {
        "id": "nD4FwhF8Jgx4"
      }
    },
    {
      "cell_type": "code",
      "source": [
        "torch.arange(1,11,2)"
      ],
      "metadata": {
        "colab": {
          "base_uri": "https://localhost:8080/"
        },
        "id": "nQTdGz8iKIwH",
        "outputId": "6fd6d772-d788-4a1b-9c66-06e1b4d46ce8"
      },
      "execution_count": 9,
      "outputs": [
        {
          "output_type": "execute_result",
          "data": {
            "text/plain": [
              "tensor([1, 3, 5, 7, 9])"
            ]
          },
          "metadata": {},
          "execution_count": 9
        }
      ]
    },
    {
      "cell_type": "markdown",
      "source": [
        "###dtypes"
      ],
      "metadata": {
        "id": "Ji2XjNPjLOg0"
      }
    },
    {
      "cell_type": "code",
      "source": [
        "tensor=torch.tensor([1,2,3], dtype=torch.float32,device=None,requires_grad=False)\n",
        "tensor.dtype"
      ],
      "metadata": {
        "colab": {
          "base_uri": "https://localhost:8080/"
        },
        "id": "1HKVkgNGLTIv",
        "outputId": "c9155af8-a15e-4afc-aa2e-f53957ce3b1d"
      },
      "execution_count": 10,
      "outputs": [
        {
          "output_type": "execute_result",
          "data": {
            "text/plain": [
              "torch.float32"
            ]
          },
          "metadata": {},
          "execution_count": 10
        }
      ]
    },
    {
      "cell_type": "markdown",
      "source": [
        "###Extracting information from tensors\n",
        "1.device\n",
        "\n",
        "2.shape\n",
        "\n",
        "3.dtype\n"
      ],
      "metadata": {
        "id": "HHN9JygwMo_y"
      }
    },
    {
      "cell_type": "code",
      "source": [
        "tensor=torch.rand(3,3)\n",
        "tensor.device,tensor.shape,tensor.dtype"
      ],
      "metadata": {
        "colab": {
          "base_uri": "https://localhost:8080/"
        },
        "id": "ymIrCDwNNJef",
        "outputId": "f2b7a3ea-791c-4330-b8d6-740d481872be"
      },
      "execution_count": 11,
      "outputs": [
        {
          "output_type": "execute_result",
          "data": {
            "text/plain": [
              "(device(type='cpu'), torch.Size([3, 3]), torch.float32)"
            ]
          },
          "metadata": {},
          "execution_count": 11
        }
      ]
    },
    {
      "cell_type": "markdown",
      "source": [
        "###Operations on tensors"
      ],
      "metadata": {
        "id": "tp5jDPjSN5qV"
      }
    },
    {
      "cell_type": "code",
      "source": [
        "tensor1=torch.tensor([1,2,3])\n",
        "tensor1+10\n",
        "torch.mul(tensor1,10)\n"
      ],
      "metadata": {
        "colab": {
          "base_uri": "https://localhost:8080/"
        },
        "id": "6duirCGvN8j6",
        "outputId": "2938e350-e44d-472d-f9ae-11bc60e101ba"
      },
      "execution_count": 12,
      "outputs": [
        {
          "output_type": "execute_result",
          "data": {
            "text/plain": [
              "tensor([10, 20, 30])"
            ]
          },
          "metadata": {},
          "execution_count": 12
        }
      ]
    },
    {
      "cell_type": "markdown",
      "source": [
        "##Reshaping, stacking, squeezing\n",
        "* View - return view of the tensor (Shares memory with the input)\n",
        "* Vstack, hstack\n",
        "* squeeze- removes all `1` dimensions\n",
        "* permute- returns view of input permuted in a certain way"
      ],
      "metadata": {
        "id": "IU8vmlLwSvQg"
      }
    },
    {
      "cell_type": "code",
      "source": [],
      "metadata": {
        "id": "nd9mymTLUBeE"
      },
      "execution_count": 12,
      "outputs": []
    },
    {
      "cell_type": "code",
      "source": [
        "import torch\n",
        "x=torch.arange(1.,10.)\n",
        "x,x.shape"
      ],
      "metadata": {
        "colab": {
          "base_uri": "https://localhost:8080/"
        },
        "id": "ML9GFGeMS0eZ",
        "outputId": "bde37835-1791-4f84-acc4-1c4800e597dc"
      },
      "execution_count": 13,
      "outputs": [
        {
          "output_type": "execute_result",
          "data": {
            "text/plain": [
              "(tensor([1., 2., 3., 4., 5., 6., 7., 8., 9.]), torch.Size([9]))"
            ]
          },
          "metadata": {},
          "execution_count": 13
        }
      ]
    },
    {
      "cell_type": "code",
      "source": [
        "#reshape\n",
        "x_reshaped=x.reshape(9,1)\n",
        "x_reshaped,x_reshaped.shape"
      ],
      "metadata": {
        "colab": {
          "base_uri": "https://localhost:8080/"
        },
        "id": "ImJePkaRTQl3",
        "outputId": "d3b053a0-a612-4300-96df-a6ac95a73c73"
      },
      "execution_count": 14,
      "outputs": [
        {
          "output_type": "execute_result",
          "data": {
            "text/plain": [
              "(tensor([[1.],\n",
              "         [2.],\n",
              "         [3.],\n",
              "         [4.],\n",
              "         [5.],\n",
              "         [6.],\n",
              "         [7.],\n",
              "         [8.],\n",
              "         [9.]]),\n",
              " torch.Size([9, 1]))"
            ]
          },
          "metadata": {},
          "execution_count": 14
        }
      ]
    },
    {
      "cell_type": "code",
      "source": [
        "#change the view\n",
        "z=x.view(1,9)\n",
        "z,z.shape\n"
      ],
      "metadata": {
        "colab": {
          "base_uri": "https://localhost:8080/"
        },
        "id": "QJEZtqJjThhg",
        "outputId": "c3566137-ecc0-403d-b98d-6bfe48a1ab0a"
      },
      "execution_count": 15,
      "outputs": [
        {
          "output_type": "execute_result",
          "data": {
            "text/plain": [
              "(tensor([[1., 2., 3., 4., 5., 6., 7., 8., 9.]]), torch.Size([1, 9]))"
            ]
          },
          "metadata": {},
          "execution_count": 15
        }
      ]
    },
    {
      "cell_type": "code",
      "source": [
        "#stack\n",
        "torch.hstack([x,x])"
      ],
      "metadata": {
        "colab": {
          "base_uri": "https://localhost:8080/"
        },
        "id": "ngUI5vIKUCT6",
        "outputId": "b8a053f4-d8e9-477f-fdb8-570551573a66"
      },
      "execution_count": 16,
      "outputs": [
        {
          "output_type": "execute_result",
          "data": {
            "text/plain": [
              "tensor([1., 2., 3., 4., 5., 6., 7., 8., 9., 1., 2., 3., 4., 5., 6., 7., 8., 9.])"
            ]
          },
          "metadata": {},
          "execution_count": 16
        }
      ]
    },
    {
      "cell_type": "markdown",
      "source": [
        "##Runnning on GPUs"
      ],
      "metadata": {
        "id": "jnyVr_VQc-RO"
      }
    },
    {
      "cell_type": "code",
      "source": [
        "#check for gpu\n",
        "import torch\n",
        "torch.cuda.is_available()"
      ],
      "metadata": {
        "id": "n985panHkFc4",
        "outputId": "ac4a445d-ee56-4092-8c60-16cd54c5e626",
        "colab": {
          "base_uri": "https://localhost:8080/"
        }
      },
      "execution_count": 3,
      "outputs": [
        {
          "output_type": "execute_result",
          "data": {
            "text/plain": [
              "True"
            ]
          },
          "metadata": {},
          "execution_count": 3
        }
      ]
    },
    {
      "cell_type": "code",
      "source": [
        "device='cuda' if torch.cuda.is_available() else 'cpu'\n",
        "device"
      ],
      "metadata": {
        "id": "hkC_-2wVlmC0",
        "outputId": "d863cb8d-25a2-4e8d-a48b-dc45074975ef",
        "colab": {
          "base_uri": "https://localhost:8080/",
          "height": 36
        }
      },
      "execution_count": 5,
      "outputs": [
        {
          "output_type": "execute_result",
          "data": {
            "text/plain": [
              "'cuda'"
            ],
            "application/vnd.google.colaboratory.intrinsic+json": {
              "type": "string"
            }
          },
          "metadata": {},
          "execution_count": 5
        }
      ]
    },
    {
      "cell_type": "code",
      "source": [
        "tensor=torch.tensor([1,2,3]).to(device)\n",
        "tensor.cpu().numpy()"
      ],
      "metadata": {
        "id": "B7Wn09PjluNM",
        "outputId": "8c2a8632-6ecc-4be9-9109-aa711cd660ab",
        "colab": {
          "base_uri": "https://localhost:8080/"
        }
      },
      "execution_count": 11,
      "outputs": [
        {
          "output_type": "execute_result",
          "data": {
            "text/plain": [
              "array([1, 2, 3])"
            ]
          },
          "metadata": {},
          "execution_count": 11
        }
      ]
    }
  ]
}