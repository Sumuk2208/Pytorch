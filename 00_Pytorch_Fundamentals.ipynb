{
  "nbformat": 4,
  "nbformat_minor": 0,
  "metadata": {
    "colab": {
      "provenance": [],
      "gpuType": "T4",
      "include_colab_link": true
    },
    "kernelspec": {
      "name": "python3",
      "display_name": "Python 3"
    },
    "language_info": {
      "name": "python"
    }
  },
  "cells": [
    {
      "cell_type": "markdown",
      "metadata": {
        "id": "view-in-github",
        "colab_type": "text"
      },
      "source": [
        "<a href=\"https://colab.research.google.com/github/Sumuk2208/Pytorch/blob/main/00_Pytorch_Fundamentals.ipynb\" target=\"_parent\"><img src=\"https://colab.research.google.com/assets/colab-badge.svg\" alt=\"Open In Colab\"/></a>"
      ]
    },
    {
      "cell_type": "markdown",
      "source": [
        "#00. Pytorch fundamentals"
      ],
      "metadata": {
        "id": "hhG23T-gUfHK"
      }
    },
    {
      "cell_type": "code",
      "source": [
        "import torch\n",
        "import pandas as pd\n",
        "import numpy as np\n",
        "import matplotlib.pyplot as plt\n",
        "print(torch.__version__)"
      ],
      "metadata": {
        "colab": {
          "base_uri": "https://localhost:8080/"
        },
        "id": "U85fajEQUln_",
        "outputId": "f0270d3c-4f7a-41ff-da0b-cfb49463891f"
      },
      "execution_count": 2,
      "outputs": [
        {
          "output_type": "stream",
          "name": "stdout",
          "text": [
            "2.5.1+cu124\n"
          ]
        }
      ]
    },
    {
      "cell_type": "markdown",
      "source": [
        "##Tensors"
      ],
      "metadata": {
        "id": "PKYXj2v3VU89"
      }
    },
    {
      "cell_type": "markdown",
      "source": [
        "scalars"
      ],
      "metadata": {
        "id": "aPQJSfS6Vcpa"
      }
    },
    {
      "cell_type": "code",
      "source": [
        "scalar=torch.tensor(3)\n",
        "scalar.item()"
      ],
      "metadata": {
        "colab": {
          "base_uri": "https://localhost:8080/"
        },
        "id": "w1sNihyHVYbZ",
        "outputId": "56526f45-68b8-4946-89d0-a67da7f9ae07"
      },
      "execution_count": 3,
      "outputs": [
        {
          "output_type": "execute_result",
          "data": {
            "text/plain": [
              "3"
            ]
          },
          "metadata": {},
          "execution_count": 3
        }
      ]
    },
    {
      "cell_type": "code",
      "source": [
        "#vectors\n",
        "vec=torch.tensor([1,2])\n",
        "vec"
      ],
      "metadata": {
        "colab": {
          "base_uri": "https://localhost:8080/"
        },
        "id": "5adCcvZ9WB0I",
        "outputId": "30b17870-e20f-4a4d-b9c5-40c9f6494cfa"
      },
      "execution_count": 4,
      "outputs": [
        {
          "output_type": "execute_result",
          "data": {
            "text/plain": [
              "tensor([1, 2])"
            ]
          },
          "metadata": {},
          "execution_count": 4
        }
      ]
    },
    {
      "cell_type": "code",
      "source": [
        "#MATRIX\n",
        "mat=torch.tensor([[1,2],[3,4]])\n",
        "mat[:1]"
      ],
      "metadata": {
        "colab": {
          "base_uri": "https://localhost:8080/"
        },
        "id": "NkHgftkIWUOn",
        "outputId": "f1b53a9d-27f8-48fb-8923-26e412fae056"
      },
      "execution_count": 5,
      "outputs": [
        {
          "output_type": "execute_result",
          "data": {
            "text/plain": [
              "tensor([[1, 2]])"
            ]
          },
          "metadata": {},
          "execution_count": 5
        }
      ]
    },
    {
      "cell_type": "code",
      "source": [
        "#Tensor\n",
        "tensor=torch.tensor([[[1,2,3],[4,5,6],[7,8,9]]])\n",
        "tensor[:,:,:2]"
      ],
      "metadata": {
        "colab": {
          "base_uri": "https://localhost:8080/"
        },
        "id": "63ODBXXTW5ox",
        "outputId": "bab59245-68a3-41ae-b3ca-78b4f25ae748"
      },
      "execution_count": 6,
      "outputs": [
        {
          "output_type": "execute_result",
          "data": {
            "text/plain": [
              "tensor([[[1, 2],\n",
              "         [4, 5],\n",
              "         [7, 8]]])"
            ]
          },
          "metadata": {},
          "execution_count": 6
        }
      ]
    },
    {
      "cell_type": "markdown",
      "source": [
        "Random tensor"
      ],
      "metadata": {
        "id": "bMhKVCptHiOl"
      }
    },
    {
      "cell_type": "code",
      "source": [
        "random_tensor=torch.rand(3,3,2)\n",
        "random_tensor"
      ],
      "metadata": {
        "colab": {
          "base_uri": "https://localhost:8080/"
        },
        "id": "Jbhn_wxlHVLA",
        "outputId": "fdfbe09d-81cc-424b-88cf-a20ad982484f"
      },
      "execution_count": 7,
      "outputs": [
        {
          "output_type": "execute_result",
          "data": {
            "text/plain": [
              "tensor([[[0.0184, 0.2561],\n",
              "         [0.4396, 0.9847],\n",
              "         [0.7892, 0.8749]],\n",
              "\n",
              "        [[0.3495, 0.2406],\n",
              "         [0.1977, 0.9340],\n",
              "         [0.4141, 0.6145]],\n",
              "\n",
              "        [[0.3437, 0.3839],\n",
              "         [0.7211, 0.1755],\n",
              "         [0.0525, 0.5766]]])"
            ]
          },
          "metadata": {},
          "execution_count": 7
        }
      ]
    },
    {
      "cell_type": "code",
      "source": [
        "random_image_tensor=torch.rand(size=(224,224,3))\n",
        "random_image_tensor.shape,random_image_tensor.ndim"
      ],
      "metadata": {
        "colab": {
          "base_uri": "https://localhost:8080/"
        },
        "id": "4BCFBBmeIp0D",
        "outputId": "8619abb2-a991-4bc4-b898-ebca9c0c31b3"
      },
      "execution_count": 8,
      "outputs": [
        {
          "output_type": "execute_result",
          "data": {
            "text/plain": [
              "(torch.Size([224, 224, 3]), 3)"
            ]
          },
          "metadata": {},
          "execution_count": 8
        }
      ]
    },
    {
      "cell_type": "markdown",
      "source": [
        "Zeroes/Ones"
      ],
      "metadata": {
        "id": "yI2NKb5_JeRe"
      }
    },
    {
      "cell_type": "code",
      "source": [
        "zeroes=torch.zeros_like(random_tensor, dtype=torch.int32)\n",
        "zeroes"
      ],
      "metadata": {
        "colab": {
          "base_uri": "https://localhost:8080/"
        },
        "id": "5VgXbBIsJUVM",
        "outputId": "c0723447-21e1-4510-c415-eac8a52376b3"
      },
      "execution_count": 15,
      "outputs": [
        {
          "output_type": "execute_result",
          "data": {
            "text/plain": [
              "tensor([[[0, 0],\n",
              "         [0, 0],\n",
              "         [0, 0]],\n",
              "\n",
              "        [[0, 0],\n",
              "         [0, 0],\n",
              "         [0, 0]],\n",
              "\n",
              "        [[0, 0],\n",
              "         [0, 0],\n",
              "         [0, 0]]], dtype=torch.int32)"
            ]
          },
          "metadata": {},
          "execution_count": 15
        }
      ]
    },
    {
      "cell_type": "markdown",
      "source": [
        "###Range and tensors like"
      ],
      "metadata": {
        "id": "nD4FwhF8Jgx4"
      }
    },
    {
      "cell_type": "code",
      "source": [
        "torch.arange(1,11,2)"
      ],
      "metadata": {
        "id": "nQTdGz8iKIwH",
        "outputId": "f89d5c00-4650-41a0-c36e-551657bd4ad9",
        "colab": {
          "base_uri": "https://localhost:8080/"
        }
      },
      "execution_count": 19,
      "outputs": [
        {
          "output_type": "execute_result",
          "data": {
            "text/plain": [
              "tensor([1, 3, 5, 7, 9])"
            ]
          },
          "metadata": {},
          "execution_count": 19
        }
      ]
    },
    {
      "cell_type": "markdown",
      "source": [
        "###dtypes"
      ],
      "metadata": {
        "id": "Ji2XjNPjLOg0"
      }
    },
    {
      "cell_type": "code",
      "source": [
        "tensor=torch.tensor([1,2,3], dtype=torch.float32,device=None,requires_grad=False)\n",
        "tensor.dtype"
      ],
      "metadata": {
        "id": "1HKVkgNGLTIv",
        "outputId": "4d00d32d-2b18-462f-c10b-d183a5ff33fa",
        "colab": {
          "base_uri": "https://localhost:8080/"
        }
      },
      "execution_count": 22,
      "outputs": [
        {
          "output_type": "execute_result",
          "data": {
            "text/plain": [
              "torch.float32"
            ]
          },
          "metadata": {},
          "execution_count": 22
        }
      ]
    },
    {
      "cell_type": "markdown",
      "source": [
        "###Extracting information from tensors\n",
        "1.device\n",
        "\n",
        "2.shape\n",
        "\n",
        "3.dtype\n"
      ],
      "metadata": {
        "id": "HHN9JygwMo_y"
      }
    },
    {
      "cell_type": "code",
      "source": [
        "tensor=torch.rand(3,3)\n",
        "tensor.device,tensor.shape,tensor.dtype"
      ],
      "metadata": {
        "id": "ymIrCDwNNJef",
        "outputId": "97b6a156-f1cd-4893-a645-b8c64c8bdbc8",
        "colab": {
          "base_uri": "https://localhost:8080/"
        }
      },
      "execution_count": 27,
      "outputs": [
        {
          "output_type": "execute_result",
          "data": {
            "text/plain": [
              "(device(type='cpu'), torch.Size([3, 3]), torch.float32)"
            ]
          },
          "metadata": {},
          "execution_count": 27
        }
      ]
    },
    {
      "cell_type": "markdown",
      "source": [
        "###Operations on tensors"
      ],
      "metadata": {
        "id": "tp5jDPjSN5qV"
      }
    },
    {
      "cell_type": "code",
      "source": [
        "tensor1=torch.tensor([1,2,3])\n",
        "tensor1+10\n",
        "torch.mul(tensor1,10)\n"
      ],
      "metadata": {
        "id": "6duirCGvN8j6",
        "outputId": "18b6caff-82dd-43b2-f468-db42d8958f5d",
        "colab": {
          "base_uri": "https://localhost:8080/"
        }
      },
      "execution_count": 35,
      "outputs": [
        {
          "output_type": "execute_result",
          "data": {
            "text/plain": [
              "tensor([10, 20, 30])"
            ]
          },
          "metadata": {},
          "execution_count": 35
        }
      ]
    },
    {
      "cell_type": "markdown",
      "source": [
        "##Reshaping, stacking, squeezing\n",
        "* View - return view of the tensor (Shares memory with the input)\n",
        "* Vstack, hstack\n",
        "* squeeze- removes all `1` dimensions\n",
        "* permute- returns view of input permuted in a certain way"
      ],
      "metadata": {
        "id": "IU8vmlLwSvQg"
      }
    },
    {
      "cell_type": "code",
      "source": [
        "import torch\n",
        "x=torch.arange(1.,10.)\n",
        "x,x.shape"
      ],
      "metadata": {
        "id": "ML9GFGeMS0eZ",
        "outputId": "d521e947-a1e1-4032-881f-6cb025f76526",
        "colab": {
          "base_uri": "https://localhost:8080/"
        }
      },
      "execution_count": 36,
      "outputs": [
        {
          "output_type": "execute_result",
          "data": {
            "text/plain": [
              "(tensor([1., 2., 3., 4., 5., 6., 7., 8., 9.]), torch.Size([9]))"
            ]
          },
          "metadata": {},
          "execution_count": 36
        }
      ]
    },
    {
      "cell_type": "code",
      "source": [
        "#reshape\n",
        "x_reshaped=x.reshape(9,1)\n",
        "x_reshaped,x_reshaped.shape"
      ],
      "metadata": {
        "id": "ImJePkaRTQl3",
        "outputId": "d1cb8e33-b1ee-43b0-84cb-da29ce9b95a2",
        "colab": {
          "base_uri": "https://localhost:8080/"
        }
      },
      "execution_count": 38,
      "outputs": [
        {
          "output_type": "execute_result",
          "data": {
            "text/plain": [
              "(tensor([[1.],\n",
              "         [2.],\n",
              "         [3.],\n",
              "         [4.],\n",
              "         [5.],\n",
              "         [6.],\n",
              "         [7.],\n",
              "         [8.],\n",
              "         [9.]]),\n",
              " torch.Size([9, 1]))"
            ]
          },
          "metadata": {},
          "execution_count": 38
        }
      ]
    },
    {
      "cell_type": "code",
      "source": [
        "#change the view\n",
        "z=x.view(1,9)\n",
        "z,z.shape\n"
      ],
      "metadata": {
        "id": "QJEZtqJjThhg",
        "outputId": "87b6c909-e602-4985-b31d-315ba6f93263",
        "colab": {
          "base_uri": "https://localhost:8080/"
        }
      },
      "execution_count": 40,
      "outputs": [
        {
          "output_type": "execute_result",
          "data": {
            "text/plain": [
              "(tensor([[1., 2., 3., 4., 5., 6., 7., 8., 9.]]), torch.Size([1, 9]))"
            ]
          },
          "metadata": {},
          "execution_count": 40
        }
      ]
    }
  ]
}